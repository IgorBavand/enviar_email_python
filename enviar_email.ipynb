{
 "cells": [
  {
   "cell_type": "code",
   "execution_count": 9,
   "id": "6d7375ad",
   "metadata": {},
   "outputs": [
    {
     "name": "stdout",
     "output_type": "stream",
     "text": [
      "successfully sent email to igor.bvn@gmail.com:\n"
     ]
    }
   ],
   "source": [
    "from email.mime.multipart import MIMEMultipart\n",
    "from email.mime.text import MIMEText\n",
    "import smtplib\n",
    "\n",
    "msg = MIMEMultipart()\n",
    "\n",
    "teste = \"esse aqui foi eu q criei\"\n",
    "\n",
    "html = \"\"\"\\\n",
    "<html>\n",
    "  <head></head>\n",
    "  <body>\n",
    "    <p>Oi!!!</p>\n",
    "    <p>{}</p>\n",
    "    \n",
    "    <p>Teste de envio de email com Python!!!</p>\n",
    "    <img src=\"https://s2.glbimg.com/kYes-403CnfPkU7gyaesx__AMqE=/0x0:512x512/512x512/s.glbimg.com/po/tt2/f/original/2021/03/26/figurinhas.jpg\">\n",
    "    \n",
    "    <p>Clica ai: <a href=\"https://github.com/IgorBavand\">Olha ai meu perfil xD</a></p> \n",
    "  </body>\n",
    "</html>\n",
    "\"\"\".format(teste)\n",
    "\n",
    "\n",
    "password = \"asenhaaqui\"\n",
    "msg['From'] = open('from_email.txt','r').read()\n",
    "msg['To'] = open('to_email.txt', 'r').read()\n",
    "msg['Subject'] = \"Apenas um teste.\"\n",
    "\n",
    "\n",
    "msg.attach(MIMEText(html, 'html'))\n",
    "\n",
    "server = smtplib.SMTP('smtp.gmail.com: 587')\n",
    "server.starttls()\n",
    "\n",
    "server.login(msg['From'], password)\n",
    "\n",
    "server.sendmail(msg['From'], msg['To'], msg.as_string())\n",
    " \n",
    "server.quit()\n",
    " \n",
    "print(\"successfully sent email to %s:\" % (msg['To']))"
   ]
  },
  {
   "cell_type": "code",
   "execution_count": null,
   "id": "8432ed25",
   "metadata": {},
   "outputs": [],
   "source": []
  }
 ],
 "metadata": {
  "kernelspec": {
   "display_name": "Python 3 (ipykernel)",
   "language": "python",
   "name": "python3"
  },
  "language_info": {
   "codemirror_mode": {
    "name": "ipython",
    "version": 3
   },
   "file_extension": ".py",
   "mimetype": "text/x-python",
   "name": "python",
   "nbconvert_exporter": "python",
   "pygments_lexer": "ipython3",
   "version": "3.9.5"
  }
 },
 "nbformat": 4,
 "nbformat_minor": 5
}
